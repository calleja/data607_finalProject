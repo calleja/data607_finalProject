{
 "cells": [
  {
   "cell_type": "code",
   "execution_count": 36,
   "metadata": {
    "collapsed": true
   },
   "outputs": [],
   "source": [
    "import requests\n",
    "import pandas as pd\n",
    "import numpy as np\n",
    "import matplotlib.pyplot as plt\n",
    "import datetime\n",
    "import seaborn as sbs"
   ]
  },
  {
   "cell_type": "code",
   "execution_count": 4,
   "metadata": {
    "collapsed": true
   },
   "outputs": [],
   "source": [
    "api4='http://chainradar.com/api/v1/mro/blocks/range/1542700/1542706/full'\n",
    "payload={'type':'GET'}"
   ]
  },
  {
   "cell_type": "code",
   "execution_count": 5,
   "metadata": {},
   "outputs": [],
   "source": [
    "response3=requests.get(api4,params=payload)\n",
    "lista_json=response3.json()"
   ]
  },
  {
   "cell_type": "markdown",
   "metadata": {},
   "source": [
    "The json object returned from the API call is a list of json trees each having three headers: 'cc','blockHeader' and 'transactions'. There are six elements in the list because we pass the header id of six blocks (see the API url above): 1542700 to 1542706."
   ]
  },
  {
   "cell_type": "markdown",
   "metadata": {},
   "source": [
    "An example of the meta data of viewable at the block level... remember, our call returned six such blocks."
   ]
  },
  {
   "cell_type": "code",
   "execution_count": 7,
   "metadata": {},
   "outputs": [
    {
     "data": {
      "text/plain": [
       "{'alreadyGeneratedCoins': 1.5888229638262e+19,\n",
       " 'baseReward': 4879988318320,\n",
       " 'blockSize': 266886,\n",
       " 'cumulativeTxCount': 4159983,\n",
       " 'difficulty': 129979810854,\n",
       " 'feeSumm': 0,\n",
       " 'fullRewardMaxBlockSize': 300000,\n",
       " 'hash': '47b2b748c96ddf525eb405ce1b4a4d779ad0cee80ea933101f71aee68762c16d',\n",
       " 'height': 1542706,\n",
       " 'orphan': False,\n",
       " 'penalty': 0,\n",
       " 'prevBlockHash': 'dbedf10e8376ea74b236f5eaa9bad833e47a34b69b61a018e604f2a0e9401bcb',\n",
       " 'reward': 4931133338320,\n",
       " 'rewardBlocksWindow': 100,\n",
       " 'sizeMedian': 39784,\n",
       " 'timestamp': 1522610689,\n",
       " 'txCount': 3,\n",
       " 'txCumulativeSize': 266778}"
      ]
     },
     "execution_count": 7,
     "metadata": {},
     "output_type": "execute_result"
    }
   ],
   "source": [
    "lista_json[6]['blockHeader']"
   ]
  },
  {
   "cell_type": "markdown",
   "metadata": {},
   "source": [
    "Beneath the 'transactions' is a list of json objects: each with their own json document. These contain the following keys:"
   ]
  },
  {
   "cell_type": "code",
   "execution_count": 6,
   "metadata": {},
   "outputs": [
    {
     "data": {
      "text/plain": [
       "dict_keys(['hash', 'size', 'fee', 'mixin', 'unlockTime', 'timestamp', 'removed', 'reason', 'blockHash', 'blockHeight', 'inputsCount', 'totalInputsAmount', 'outputsCount', 'totalOutputsAmount'])"
      ]
     },
     "execution_count": 6,
     "metadata": {},
     "output_type": "execute_result"
    }
   ],
   "source": [
    "lista_json[6]['transactions'][2].keys()"
   ]
  },
  {
   "cell_type": "markdown",
   "metadata": {},
   "source": [
    "#Plotting and time series using their convention of timestamp:\n"
   ]
  },
  {
   "cell_type": "code",
   "execution_count": 12,
   "metadata": {},
   "outputs": [],
   "source": [
    "df=pd.DataFrame([i['blockHeader'] for i in lista_json])\n",
    "#df=pd.DataFrame.from_dict([i['blockHeader'] for i in lista_json],orient='records')"
   ]
  },
  {
   "cell_type": "code",
   "execution_count": 20,
   "metadata": {},
   "outputs": [],
   "source": [
    "df.head()\n",
    "df.shape\n",
    "df.dtypes\n",
    "\n",
    "#convert the timestamp columns to datetime from int64\n",
    "df['timestamp']=df['timestamp'].apply(lambda x: datetime.datetime.fromtimestamp(x))"
   ]
  },
  {
   "cell_type": "code",
   "execution_count": 27,
   "metadata": {},
   "outputs": [
    {
     "data": {
      "text/plain": [
       "0   2018-04-01 15:10:39\n",
       "1   2018-04-01 15:10:55\n",
       "2   2018-04-01 15:11:10\n",
       "3   2018-04-01 15:11:17\n",
       "4   2018-04-01 15:14:47\n",
       "5   2018-04-01 15:24:35\n",
       "6   2018-04-01 15:24:49\n",
       "Name: timestamp, dtype: datetime64[ns]"
      ]
     },
     "execution_count": 27,
     "metadata": {},
     "output_type": "execute_result"
    }
   ],
   "source": [
    "df['timestamp']"
   ]
  },
  {
   "cell_type": "markdown",
   "metadata": {},
   "source": [
    "Blocks are added to the blockchain quickly but with a good amount of variance! Below is the difference in timestamps in seconds."
   ]
  },
  {
   "cell_type": "code",
   "execution_count": 26,
   "metadata": {},
   "outputs": [
    {
     "data": {
      "text/plain": [
       "array([ 16,  15,   7, 210, 588,  14], dtype='timedelta64[ns]')"
      ]
     },
     "execution_count": 26,
     "metadata": {},
     "output_type": "execute_result"
    }
   ],
   "source": [
    "arr=np.array(df['timestamp'])\n",
    "g=arr[1:]-arr[:-1]\n",
    "g/10**9"
   ]
  },
  {
   "cell_type": "markdown",
   "metadata": {},
   "source": [
    "A time series chart of the number of block size of each block."
   ]
  },
  {
   "cell_type": "code",
   "execution_count": 33,
   "metadata": {},
   "outputs": [
    {
     "data": {
      "image/png": "[encoded data removed]",
      "text/plain": [
       "<matplotlib.figure.Figure at 0x7fe288d632e8>"
      ]
     },
     "metadata": {},
     "output_type": "display_data"
    }
   ],
   "source": [
    "plt.bar(df['timestamp'],df['blockSize'])\n",
    "plt.show()"
   ]
  },
  {
   "cell_type": "code",
   "execution_count": 39,
   "metadata": {
    "collapsed": true
   },
   "outputs": [],
   "source": [
    "df1=df.set_index(df['timestamp'])"
   ]
  },
  {
   "cell_type": "code",
   "execution_count": 45,
   "metadata": {},
   "outputs": [
    {
     "name": "stderr",
     "output_type": "stream",
     "text": [
      "/home/lechuza/anaconda3/lib/python3.6/site-packages/seaborn/timeseries.py:183: UserWarning: The tsplot function is deprecated and will be removed or replaced (in a substantially altered version) in a future release.\n",
      "  warnings.warn(msg, UserWarning)\n"
     ]
    },
    {
     "data": {
      "image/png": "[encoded data removed]",
      "text/plain": [
       "<matplotlib.figure.Figure at 0x7fe27fe57fd0>"
      ]
     },
     "metadata": {},
     "output_type": "display_data"
    }
   ],
   "source": [
    "sbs.tsplot(df['blockSize'],interpolate=False)\n",
    "plt.xticks(np.arange(7),df['timestamp'],rotation=45)\n",
    "plt.title('Size of each block')\n",
    "plt.show()"
   ]
  },
  {
   "cell_type": "markdown",
   "metadata": {},
   "source": [
    "In order to accomplish some exploratory analysis, I'll retrieve many more blocks... I'll use the same range convention as above."
   ]
  },
  {
   "cell_type": "code",
   "execution_count": null,
   "metadata": {
    "collapsed": true
   },
   "outputs": [],
   "source": [
    "api5='http://chainradar.com/api/v1/mro/blocks/range/1541700/1542706/full'\n",
    "payload={'type':'GET'}\n",
    "response3=requests.get(api5,params=payload)\n",
    "lista_json=response3.json()"
   ]
  }
 ],
 "metadata": {
  "kernelspec": {
   "display_name": "Python 3",
   "language": "python",
   "name": "python3"
  },
  "language_info": {
   "codemirror_mode": {
    "name": "ipython",
    "version": 3
   },
   "file_extension": ".py",
   "mimetype": "text/x-python",
   "name": "python",
   "nbconvert_exporter": "python",
   "pygments_lexer": "ipython3",
   "version": "3.6.3"
  }
 },
 "nbformat": 4,
 "nbformat_minor": 2
}
